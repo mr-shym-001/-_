{
 "cells": [
  {
   "cell_type": "markdown",
   "id": "0a29da61",
   "metadata": {},
   "source": [
    "# Загружение данных по вакансиям"
   ]
  },
  {
   "cell_type": "code",
   "execution_count": 1,
   "id": "3d5014a3",
   "metadata": {},
   "outputs": [],
   "source": [
    "import pandas as pd\n",
    "import numpy as np\n",
    "data = pd.read_excel(\"C:\\\\Users\\\\Lenovo\\\\Downloads\\\\work__final.xlsx\")"
   ]
  },
  {
   "cell_type": "code",
   "execution_count": 2,
   "id": "d649521d",
   "metadata": {},
   "outputs": [],
   "source": [
    "lt=[]\n",
    "w=0\n",
    "for i in range(len(data)):\n",
    "    lt.append(0)\n",
    "for i in range(len(data)):\n",
    "    if lt[i]==0:\n",
    "        w+=1\n",
    "        for j in range(len(data)):\n",
    "            if data['Город'][i]==data['Город'][j]:\n",
    "                lt[j]=w"
   ]
  },
  {
   "cell_type": "markdown",
   "id": "8d8665c4",
   "metadata": {},
   "source": [
    "Создание id_городов"
   ]
  },
  {
   "cell_type": "code",
   "execution_count": 3,
   "id": "b8df17cd",
   "metadata": {},
   "outputs": [],
   "source": [
    "list_num = [] \n",
    "for i in range(len(data)): \n",
    "    try: \n",
    "        num = lt[i] \n",
    "        list_num.append(int(num)) \n",
    "    except ValueError: \n",
    "        continue \n",
    "column_values = pd.Series(list_num) \n",
    "data.insert(loc=7, column='id_городов', value=column_values)"
   ]
  },
  {
   "cell_type": "code",
   "execution_count": 4,
   "id": "626109a0",
   "metadata": {},
   "outputs": [
    {
     "data": {
      "text/html": [
       "<div>\n",
       "<style scoped>\n",
       "    .dataframe tbody tr th:only-of-type {\n",
       "        vertical-align: middle;\n",
       "    }\n",
       "\n",
       "    .dataframe tbody tr th {\n",
       "        vertical-align: top;\n",
       "    }\n",
       "\n",
       "    .dataframe thead th {\n",
       "        text-align: right;\n",
       "    }\n",
       "</style>\n",
       "<table border=\"1\" class=\"dataframe\">\n",
       "  <thead>\n",
       "    <tr style=\"text-align: right;\">\n",
       "      <th></th>\n",
       "      <th>позиция</th>\n",
       "      <th>id_позиций</th>\n",
       "      <th>зарплата</th>\n",
       "      <th>Зарплата_от</th>\n",
       "      <th>Зарплата_до</th>\n",
       "      <th>Зарплата_средняя</th>\n",
       "      <th>Город</th>\n",
       "      <th>id_городов</th>\n",
       "      <th>Организация</th>\n",
       "      <th>ставка</th>\n",
       "      <th>нужный опыт</th>\n",
       "      <th>айди страницы</th>\n",
       "    </tr>\n",
       "  </thead>\n",
       "  <tbody>\n",
       "    <tr>\n",
       "      <th>0</th>\n",
       "      <td>Инженер ПТО</td>\n",
       "      <td>1</td>\n",
       "      <td>от 150 000 до 220 000 KZT на руки</td>\n",
       "      <td>150000</td>\n",
       "      <td>220000</td>\n",
       "      <td>185000</td>\n",
       "      <td>Алматы</td>\n",
       "      <td>1</td>\n",
       "      <td>ТОО Метако ПФ</td>\n",
       "      <td>8</td>\n",
       "      <td>4</td>\n",
       "      <td>47012114</td>\n",
       "    </tr>\n",
       "    <tr>\n",
       "      <th>1</th>\n",
       "      <td>Инженер ПТО на линию</td>\n",
       "      <td>2</td>\n",
       "      <td>от 300 000 до 350 000 KZT на руки</td>\n",
       "      <td>300000</td>\n",
       "      <td>350000</td>\n",
       "      <td>325000</td>\n",
       "      <td>Нур-Султан</td>\n",
       "      <td>2</td>\n",
       "      <td>ТОО Асем-Құрылыс Групп</td>\n",
       "      <td>8</td>\n",
       "      <td>4</td>\n",
       "      <td>47127963</td>\n",
       "    </tr>\n",
       "    <tr>\n",
       "      <th>2</th>\n",
       "      <td>Инженер ПТО</td>\n",
       "      <td>1</td>\n",
       "      <td>от 350 000 до 400 000 KZT на руки</td>\n",
       "      <td>350000</td>\n",
       "      <td>400000</td>\n",
       "      <td>375000</td>\n",
       "      <td>Алматы</td>\n",
       "      <td>1</td>\n",
       "      <td>ТОО Энергетические системы БиС</td>\n",
       "      <td>8</td>\n",
       "      <td>4</td>\n",
       "      <td>47513718</td>\n",
       "    </tr>\n",
       "    <tr>\n",
       "      <th>3</th>\n",
       "      <td>Инженер ПТО</td>\n",
       "      <td>1</td>\n",
       "      <td>от 300 000 до 350 000 KZT на руки</td>\n",
       "      <td>300000</td>\n",
       "      <td>350000</td>\n",
       "      <td>325000</td>\n",
       "      <td>Нур-Султан</td>\n",
       "      <td>2</td>\n",
       "      <td>ТОО Astana Reality Group</td>\n",
       "      <td>8</td>\n",
       "      <td>4</td>\n",
       "      <td>47352631</td>\n",
       "    </tr>\n",
       "    <tr>\n",
       "      <th>4</th>\n",
       "      <td>Инженер-сметчик</td>\n",
       "      <td>3</td>\n",
       "      <td>от 300 000 до 300 000 KZT до вычета налогов</td>\n",
       "      <td>300000</td>\n",
       "      <td>300000</td>\n",
       "      <td>300000</td>\n",
       "      <td>Нур-Султан</td>\n",
       "      <td>2</td>\n",
       "      <td>ТОО КазИнженерСтрой</td>\n",
       "      <td>8</td>\n",
       "      <td>4</td>\n",
       "      <td>47190864</td>\n",
       "    </tr>\n",
       "    <tr>\n",
       "      <th>...</th>\n",
       "      <td>...</td>\n",
       "      <td>...</td>\n",
       "      <td>...</td>\n",
       "      <td>...</td>\n",
       "      <td>...</td>\n",
       "      <td>...</td>\n",
       "      <td>...</td>\n",
       "      <td>...</td>\n",
       "      <td>...</td>\n",
       "      <td>...</td>\n",
       "      <td>...</td>\n",
       "      <td>...</td>\n",
       "    </tr>\n",
       "    <tr>\n",
       "      <th>145</th>\n",
       "      <td>Сервисный инженер</td>\n",
       "      <td>28</td>\n",
       "      <td>от 160 000 до 230 000 KZT на руки</td>\n",
       "      <td>160000</td>\n",
       "      <td>230000</td>\n",
       "      <td>195000</td>\n",
       "      <td>Нур-Султан</td>\n",
       "      <td>2</td>\n",
       "      <td>MFITNESS</td>\n",
       "      <td>8</td>\n",
       "      <td>4</td>\n",
       "      <td>47686595</td>\n",
       "    </tr>\n",
       "    <tr>\n",
       "      <th>146</th>\n",
       "      <td>Инженер-проектировщик слаботочных систем</td>\n",
       "      <td>68</td>\n",
       "      <td>от 45 000 до 85 000 руб. на руки</td>\n",
       "      <td>262000</td>\n",
       "      <td>494000</td>\n",
       "      <td>378000</td>\n",
       "      <td>Усть-Каменогорск</td>\n",
       "      <td>11</td>\n",
       "      <td>ООО АПС Групп</td>\n",
       "      <td>8</td>\n",
       "      <td>4</td>\n",
       "      <td>47111642</td>\n",
       "    </tr>\n",
       "    <tr>\n",
       "      <th>147</th>\n",
       "      <td>Инженер-проектировщик слаботочных систем</td>\n",
       "      <td>68</td>\n",
       "      <td>от 45 000 до 85 000 руб. на руки</td>\n",
       "      <td>262000</td>\n",
       "      <td>494000</td>\n",
       "      <td>378000</td>\n",
       "      <td>Семей</td>\n",
       "      <td>24</td>\n",
       "      <td>ООО АПС Групп</td>\n",
       "      <td>8</td>\n",
       "      <td>4</td>\n",
       "      <td>46937042</td>\n",
       "    </tr>\n",
       "    <tr>\n",
       "      <th>148</th>\n",
       "      <td>Сервис-инженер / специалист по заправке картри...</td>\n",
       "      <td>75</td>\n",
       "      <td>от 120 000 до 190 000 KZT до вычета налогов</td>\n",
       "      <td>120000</td>\n",
       "      <td>190000</td>\n",
       "      <td>155000</td>\n",
       "      <td>Нур-Султан</td>\n",
       "      <td>2</td>\n",
       "      <td>ТОО ARKUDA COMPANY</td>\n",
       "      <td>8</td>\n",
       "      <td>2</td>\n",
       "      <td>47663841</td>\n",
       "    </tr>\n",
       "    <tr>\n",
       "      <th>149</th>\n",
       "      <td>Инженер-проектировщик слаботочных систем</td>\n",
       "      <td>68</td>\n",
       "      <td>от 150 000 до 250 000 KZT до вычета налогов</td>\n",
       "      <td>150000</td>\n",
       "      <td>250000</td>\n",
       "      <td>200000</td>\n",
       "      <td>Нур-Султан</td>\n",
       "      <td>2</td>\n",
       "      <td>ТОО Stone (Стоун)-Клининг</td>\n",
       "      <td>7</td>\n",
       "      <td>2</td>\n",
       "      <td>46906985</td>\n",
       "    </tr>\n",
       "  </tbody>\n",
       "</table>\n",
       "<p>150 rows × 12 columns</p>\n",
       "</div>"
      ],
      "text/plain": [
       "                                               позиция  id_позиций  \\\n",
       "0                                          Инженер ПТО           1   \n",
       "1                                 Инженер ПТО на линию           2   \n",
       "2                                          Инженер ПТО           1   \n",
       "3                                          Инженер ПТО           1   \n",
       "4                                      Инженер-сметчик           3   \n",
       "..                                                 ...         ...   \n",
       "145                                  Сервисный инженер          28   \n",
       "146           Инженер-проектировщик слаботочных систем          68   \n",
       "147           Инженер-проектировщик слаботочных систем          68   \n",
       "148  Сервис-инженер / специалист по заправке картри...          75   \n",
       "149           Инженер-проектировщик слаботочных систем          68   \n",
       "\n",
       "                                        зарплата  Зарплата_от  Зарплата_до  \\\n",
       "0              от 150 000 до 220 000 KZT на руки       150000       220000   \n",
       "1              от 300 000 до 350 000 KZT на руки       300000       350000   \n",
       "2              от 350 000 до 400 000 KZT на руки       350000       400000   \n",
       "3              от 300 000 до 350 000 KZT на руки       300000       350000   \n",
       "4    от 300 000 до 300 000 KZT до вычета налогов       300000       300000   \n",
       "..                                           ...          ...          ...   \n",
       "145            от 160 000 до 230 000 KZT на руки       160000       230000   \n",
       "146             от 45 000 до 85 000 руб. на руки       262000       494000   \n",
       "147             от 45 000 до 85 000 руб. на руки       262000       494000   \n",
       "148  от 120 000 до 190 000 KZT до вычета налогов       120000       190000   \n",
       "149  от 150 000 до 250 000 KZT до вычета налогов       150000       250000   \n",
       "\n",
       "     Зарплата_средняя             Город  id_городов  \\\n",
       "0              185000            Алматы           1   \n",
       "1              325000        Нур-Султан           2   \n",
       "2              375000            Алматы           1   \n",
       "3              325000        Нур-Султан           2   \n",
       "4              300000        Нур-Султан           2   \n",
       "..                ...               ...         ...   \n",
       "145            195000        Нур-Султан           2   \n",
       "146            378000  Усть-Каменогорск          11   \n",
       "147            378000             Семей          24   \n",
       "148            155000        Нур-Султан           2   \n",
       "149            200000        Нур-Султан           2   \n",
       "\n",
       "                        Организация  ставка  нужный опыт  айди страницы  \n",
       "0                     ТОО Метако ПФ       8            4       47012114  \n",
       "1            ТОО Асем-Құрылыс Групп       8            4       47127963  \n",
       "2    ТОО Энергетические системы БиС       8            4       47513718  \n",
       "3          ТОО Astana Reality Group       8            4       47352631  \n",
       "4               ТОО КазИнженерСтрой       8            4       47190864  \n",
       "..                              ...     ...          ...            ...  \n",
       "145                        MFITNESS       8            4       47686595  \n",
       "146                   ООО АПС Групп       8            4       47111642  \n",
       "147                   ООО АПС Групп       8            4       46937042  \n",
       "148              ТОО ARKUDA COMPANY       8            2       47663841  \n",
       "149       ТОО Stone (Стоун)-Клининг       7            2       46906985  \n",
       "\n",
       "[150 rows x 12 columns]"
      ]
     },
     "execution_count": 4,
     "metadata": {},
     "output_type": "execute_result"
    }
   ],
   "source": [
    "data"
   ]
  },
  {
   "cell_type": "markdown",
   "id": "eb27ac7a",
   "metadata": {},
   "source": [
    "Функция unique() находит уникальные элементы массива и возвращает их в отсортированном массиве.\n",
    "freq возвращает частоту, примененную к данному объекту, top - это как мода, много встречающие элементы столбцы."
   ]
  },
  {
   "cell_type": "code",
   "execution_count": 5,
   "id": "bca6210e",
   "metadata": {},
   "outputs": [
    {
     "data": {
      "text/plain": [
       "count                                   150\n",
       "unique                                  101\n",
       "top       от 250 000 до 250 000 KZT на руки\n",
       "freq                                      5\n",
       "Name: зарплата, dtype: object"
      ]
     },
     "execution_count": 5,
     "metadata": {},
     "output_type": "execute_result"
    }
   ],
   "source": [
    "data[\"зарплата\"].describe()"
   ]
  },
  {
   "cell_type": "markdown",
   "id": "787ddf19",
   "metadata": {},
   "source": [
    "Функция mean() вычисляет среднее арифметическое значений элементов массива.\n",
    "\n",
    "std - это число, которое описывает, как распределены наблюдения. Математическая функция будет испытывать трудности с предсказанием точных значений, если наблюдения \"разбросаны\". Стандартное отклонение-это мера неопределенности. \n",
    "Низкое стандартное отклонение означает, что большинство чисел близки к среднему (среднему) значению.Высокое стандартное отклонение означает, что значения распределены в более широком диапазоне.\n",
    "\n",
    "25%,50%,75% Перцентиль - это показатель, используемый в статистике, показывающий значение, ниже которого падает определенный процент наблюдений в группе наблюдений."
   ]
  },
  {
   "cell_type": "code",
   "execution_count": 6,
   "id": "340afb1c",
   "metadata": {},
   "outputs": [
    {
     "data": {
      "text/plain": [
       "count       150.000000\n",
       "mean     270564.273333\n",
       "std      116806.415943\n",
       "min       75000.000000\n",
       "25%      190000.000000\n",
       "50%      250000.000000\n",
       "75%      325000.000000\n",
       "max      870000.000000\n",
       "Name: Зарплата_средняя, dtype: float64"
      ]
     },
     "execution_count": 6,
     "metadata": {},
     "output_type": "execute_result"
    }
   ],
   "source": [
    "data['Зарплата_средняя'].describe()"
   ]
  },
  {
   "cell_type": "code",
   "execution_count": 7,
   "id": "0b4120ad",
   "metadata": {},
   "outputs": [
    {
     "data": {
      "text/plain": [
       "count             150\n",
       "unique             75\n",
       "top       Инженер ПТО\n",
       "freq               31\n",
       "Name: позиция, dtype: object"
      ]
     },
     "execution_count": 7,
     "metadata": {},
     "output_type": "execute_result"
    }
   ],
   "source": [
    "data[\"позиция\"].describe()"
   ]
  },
  {
   "cell_type": "code",
   "execution_count": 8,
   "id": "d85169bd",
   "metadata": {},
   "outputs": [
    {
     "data": {
      "text/plain": [
       "count    150.000000\n",
       "mean       2.760000\n",
       "std        1.649405\n",
       "min        0.000000\n",
       "25%        2.000000\n",
       "50%        2.000000\n",
       "75%        4.000000\n",
       "max        6.000000\n",
       "Name: нужный опыт, dtype: float64"
      ]
     },
     "execution_count": 8,
     "metadata": {},
     "output_type": "execute_result"
    }
   ],
   "source": [
    "data[\"нужный опыт\"].describe()"
   ]
  },
  {
   "cell_type": "code",
   "execution_count": 9,
   "id": "4114bc54",
   "metadata": {},
   "outputs": [
    {
     "data": {
      "text/plain": [
       "count               150\n",
       "unique              140\n",
       "top       ООО АПС Групп\n",
       "freq                  5\n",
       "Name: Организация, dtype: object"
      ]
     },
     "execution_count": 9,
     "metadata": {},
     "output_type": "execute_result"
    }
   ],
   "source": [
    "data[\"Организация\"].describe()"
   ]
  },
  {
   "cell_type": "code",
   "execution_count": 10,
   "id": "6d0e2228",
   "metadata": {},
   "outputs": [
    {
     "data": {
      "text/plain": [
       "count        150\n",
       "unique        24\n",
       "top       Алматы\n",
       "freq          45\n",
       "Name: Город, dtype: object"
      ]
     },
     "execution_count": 10,
     "metadata": {},
     "output_type": "execute_result"
    }
   ],
   "source": [
    "data[\"Город\"].describe()"
   ]
  },
  {
   "cell_type": "code",
   "execution_count": 11,
   "id": "e1b96e9b",
   "metadata": {},
   "outputs": [],
   "source": [
    "import matplotlib.pyplot as plt"
   ]
  },
  {
   "cell_type": "code",
   "execution_count": 12,
   "id": "31cef076",
   "metadata": {},
   "outputs": [],
   "source": [
    "X = data[['Зарплата_от', 'Зарплата_до']]\n",
    "y = data['id_позиций']"
   ]
  },
  {
   "cell_type": "code",
   "execution_count": 13,
   "id": "e74f1bc8",
   "metadata": {},
   "outputs": [],
   "source": [
    "from sklearn import linear_model"
   ]
  },
  {
   "cell_type": "code",
   "execution_count": 14,
   "id": "a5fdb89c",
   "metadata": {},
   "outputs": [
    {
     "name": "stdout",
     "output_type": "stream",
     "text": [
      "<class 'pandas.core.frame.DataFrame'>\n",
      "RangeIndex: 150 entries, 0 to 149\n",
      "Data columns (total 12 columns):\n",
      " #   Column            Non-Null Count  Dtype \n",
      "---  ------            --------------  ----- \n",
      " 0   позиция           150 non-null    object\n",
      " 1   id_позиций        150 non-null    int64 \n",
      " 2   зарплата          150 non-null    object\n",
      " 3   Зарплата_от       150 non-null    int64 \n",
      " 4   Зарплата_до       150 non-null    int64 \n",
      " 5   Зарплата_средняя  150 non-null    int64 \n",
      " 6   Город             150 non-null    object\n",
      " 7   id_городов        150 non-null    int64 \n",
      " 8   Организация       150 non-null    object\n",
      " 9   ставка            150 non-null    int64 \n",
      " 10  нужный опыт       150 non-null    int64 \n",
      " 11  айди страницы     150 non-null    int64 \n",
      "dtypes: int64(8), object(4)\n",
      "memory usage: 14.2+ KB\n"
     ]
    }
   ],
   "source": [
    "data.info()"
   ]
  },
  {
   "cell_type": "code",
   "execution_count": 15,
   "id": "513b8e7f",
   "metadata": {},
   "outputs": [
    {
     "data": {
      "text/plain": [
       "LinearRegression()"
      ]
     },
     "execution_count": 15,
     "metadata": {},
     "output_type": "execute_result"
    }
   ],
   "source": [
    "regr = linear_model.LinearRegression()\n",
    "regr.fit(X, y)"
   ]
  },
  {
   "cell_type": "code",
   "execution_count": 16,
   "id": "29971fe6",
   "metadata": {},
   "outputs": [],
   "source": [
    "predicted_rbt = regr.predict([[2, 310]])"
   ]
  },
  {
   "cell_type": "code",
   "execution_count": 17,
   "id": "e4ab1e91",
   "metadata": {},
   "outputs": [
    {
     "data": {
      "text/plain": [
       "array([26.41419466])"
      ]
     },
     "execution_count": 17,
     "metadata": {},
     "output_type": "execute_result"
    }
   ],
   "source": [
    "predicted_rbt"
   ]
  },
  {
   "cell_type": "code",
   "execution_count": 18,
   "id": "725228ad",
   "metadata": {
    "scrolled": true
   },
   "outputs": [
    {
     "data": {
      "text/plain": [
       "(array([17., 47., 45., 22., 12.,  3.,  2.,  1.,  0.,  1.]),\n",
       " array([ 75000., 154500., 234000., 313500., 393000., 472500., 552000.,\n",
       "        631500., 711000., 790500., 870000.]),\n",
       " <BarContainer object of 10 artists>)"
      ]
     },
     "execution_count": 18,
     "metadata": {},
     "output_type": "execute_result"
    },
    {
     "data": {
      "image/png": "[encoded data removed]",
      "text/plain": [
       "<Figure size 432x288 with 1 Axes>"
      ]
     },
     "metadata": {
      "needs_background": "light"
     },
     "output_type": "display_data"
    }
   ],
   "source": [
    "plt.hist(data[\"Зарплата_средняя\"])"
   ]
  },
  {
   "cell_type": "markdown",
   "id": "c1da837d",
   "metadata": {},
   "source": [
    "по х оси - зарплаты, а по оси у - количество вакансий по зарплатам"
   ]
  },
  {
   "cell_type": "code",
   "execution_count": 19,
   "id": "1374afe3",
   "metadata": {},
   "outputs": [
    {
     "name": "stdout",
     "output_type": "stream",
     "text": [
      "<class 'pandas.core.frame.DataFrame'>\n",
      "RangeIndex: 150 entries, 0 to 149\n",
      "Data columns (total 12 columns):\n",
      " #   Column            Non-Null Count  Dtype \n",
      "---  ------            --------------  ----- \n",
      " 0   позиция           150 non-null    object\n",
      " 1   id_позиций        150 non-null    int64 \n",
      " 2   зарплата          150 non-null    object\n",
      " 3   Зарплата_от       150 non-null    int64 \n",
      " 4   Зарплата_до       150 non-null    int64 \n",
      " 5   Зарплата_средняя  150 non-null    int64 \n",
      " 6   Город             150 non-null    object\n",
      " 7   id_городов        150 non-null    int64 \n",
      " 8   Организация       150 non-null    object\n",
      " 9   ставка            150 non-null    int64 \n",
      " 10  нужный опыт       150 non-null    int64 \n",
      " 11  айди страницы     150 non-null    int64 \n",
      "dtypes: int64(8), object(4)\n",
      "memory usage: 14.2+ KB\n"
     ]
    }
   ],
   "source": [
    "data.info()"
   ]
  },
  {
   "cell_type": "markdown",
   "id": "fc35cd1f",
   "metadata": {},
   "source": [
    "# Прогнозирование вакансий по зарплатам с линейной регрессии"
   ]
  },
  {
   "cell_type": "code",
   "execution_count": 20,
   "id": "1ad416ad",
   "metadata": {},
   "outputs": [
    {
     "name": "stdout",
     "output_type": "stream",
     "text": [
      "kx + b = -7.0141368542614346e-06*k + 26.79110817436713\n"
     ]
    }
   ],
   "source": [
    "import matplotlib.pyplot as plt\n",
    "from scipy import stats\n",
    "k = data['Зарплата_средняя']\n",
    "l = data['id_позиций']\n",
    "slope, intercept, r, p, std_err = stats.linregress(k, l)\n",
    "def myfunc(k):\n",
    "    return slope * k + intercept\n",
    "mymodel = list(map(myfunc, k))\n",
    "print(\"kx + b = \"+str(slope)+\"*k + \"+str(intercept))"
   ]
  },
  {
   "cell_type": "markdown",
   "id": "63d8caec",
   "metadata": {},
   "source": [
    "\"kx + b = -7.0141368542614346e-06*k + 26.79110817436713\" --- формула линейного регрессии. Intercept – свободный коэффициент; то, чему равна зависимая переменная, если предиктор равен нулю Slope – угол наклона прямой; показывает, насколько изменяется зависимая переменная при изменении предиктора."
   ]
  },
  {
   "cell_type": "code",
   "execution_count": 21,
   "id": "1c52482d",
   "metadata": {},
   "outputs": [
    {
     "data": {
      "image/png": "[encoded data removed]",
      "text/plain": [
       "<Figure size 432x288 with 1 Axes>"
      ]
     },
     "metadata": {
      "needs_background": "light"
     },
     "output_type": "display_data"
    }
   ],
   "source": [
    "for i in range(len(data)):\n",
    "    if int(data['ставка'][i])==8:\n",
    "        plt.scatter(data['Зарплата_средняя'][i], data['id_позиций'][i], c=\"#FF0099\")\n",
    "    else:\n",
    "        plt.scatter(data['Зарплата_средняя'][i], data['id_позиций'][i], c=\"#0099FF\")\n",
    "plt.plot(k, mymodel,c=\"g\")\n",
    "plt.title('Прогнозирование с линейной регрессии')\n",
    "plt.xlabel(\"Зарплата_средняя\")\n",
    "plt.show()"
   ]
  },
  {
   "cell_type": "code",
   "execution_count": 22,
   "id": "d2f9d1d1",
   "metadata": {
    "scrolled": true
   },
   "outputs": [
    {
     "name": "stdout",
     "output_type": "stream",
     "text": [
      "Введите зарплату: 250000\n",
      "250000 KZT - прогнозируемая будущая средняя зарплата этих вакансий: Инженер-проектировщик по электрике, Ведущий инженер по Geomatics, Инженер 1 С ТОИР\n"
     ]
    }
   ],
   "source": [
    "s=''\n",
    "k=int(input(\"Введите зарплату: \"))\n",
    "if int(myfunc(k))==1:\n",
    "    for i in range(len(data)):\n",
    "        if int(data['id_позиций'][i])==int(myfunc(k)) or int(data['id_позиций'][i])==int(myfunc(k))-1 or int(data['id_позиций'][i])==int(myfunc(k))+1:\n",
    "            if str(data['позиция'][i]) not in s:\n",
    "                s+=str(data['позиция'][i])+\", \"\n",
    "    print(str(k)+\" KZT - прогнозируемая будущая средняя зарплата этих вакансий: \"+str(s)[:-2])\n",
    "else:\n",
    "    for i in range(len(data)):\n",
    "        if int(data['id_позиций'][i])==int(myfunc(k)) or int(data['id_позиций'][i])==int(myfunc(k))-1 or int(data['id_позиций'][i])==int(myfunc(k))+1:\n",
    "            if str(data['позиция'][i]) not in s:\n",
    "                s+=str(data['позиция'][i])+\", \"\n",
    "    print(str(k)+\" KZT - прогнозируемая будущая средняя зарплата этих вакансий: \"+str(s)[:-2])"
   ]
  },
  {
   "cell_type": "markdown",
   "id": "cd86a75e",
   "metadata": {},
   "source": [
    "# Прогнозирование вакансий по зарплатам с полиномиальной регресcии"
   ]
  },
  {
   "cell_type": "code",
   "execution_count": 23,
   "id": "5313e95f",
   "metadata": {},
   "outputs": [],
   "source": [
    "import numpy as np\n",
    "import matplotlib.pyplot as plt\n",
    "k = data['Зарплата_средняя']\n",
    "l = data['id_позиций']\n",
    "mymodel = np.poly1d(np.polyfit(k, l, 3))\n",
    "myline = np.linspace(75000, 870000, 250000)"
   ]
  },
  {
   "cell_type": "code",
   "execution_count": 24,
   "id": "1cb4f9a5",
   "metadata": {},
   "outputs": [
    {
     "data": {
      "image/png": "[encoded data removed]",
      "text/plain": [
       "<Figure size 432x288 with 1 Axes>"
      ]
     },
     "metadata": {
      "needs_background": "light"
     },
     "output_type": "display_data"
    }
   ],
   "source": [
    "for i in range(len(data)):\n",
    "    if int(data['ставка'][i])==8:\n",
    "        plt.scatter(data['Зарплата_средняя'][i], data['id_позиций'][i], c=\"#FF0099\")\n",
    "    else:\n",
    "        plt.scatter(data['Зарплата_средняя'][i], data['id_позиций'][i], c=\"#0099FF\")\n",
    "plt.plot(myline, mymodel(myline), c=\"g\")\n",
    "plt.title('Прогнозирование с полиномиальной регрессии')\n",
    "plt.xlabel(\"Зарплата_средняя\")\n",
    "plt.show()"
   ]
  },
  {
   "cell_type": "code",
   "execution_count": 25,
   "id": "36860ed5",
   "metadata": {
    "scrolled": true
   },
   "outputs": [
    {
     "name": "stdout",
     "output_type": "stream",
     "text": [
      "Введите зарплату: 550000\n",
      "550000 KZT - прогнозируемая будущая средняя зарплата этих вакансий: Инженер-программист, Инженер-строитель(инженер-сметчик/инженер-по сетям), Начальник-Инженер ПТО\n"
     ]
    }
   ],
   "source": [
    "s=''\n",
    "k=int(input(\"Введите зарплату: \"))\n",
    "if int(myfunc(k))==1:\n",
    "    for i in range(len(data)):\n",
    "        if int(data['id_позиций'][i])==int(myfunc(k)) or int(data['id_позиций'][i])==int(myfunc(k))-1 or int(data['id_позиций'][i])==int(myfunc(k))+1:\n",
    "            if str(data['позиция'][i]) not in s:\n",
    "                s+=str(data['позиция'][i])+\", \"\n",
    "    print(str(k)+\" KZT - прогнозируемая будущая средняя зарплата этих вакансий: \"+str(s)[:-2])\n",
    "else:\n",
    "    for i in range(len(data)):\n",
    "        if int(data['id_позиций'][i])==int(myfunc(k)) or int(data['id_позиций'][i])==int(myfunc(k))-1 or int(data['id_позиций'][i])==int(myfunc(k))+1:\n",
    "            if str(data['позиция'][i]) not in s:\n",
    "                s+=str(data['позиция'][i])+\", \"\n",
    "    print(str(k)+\" KZT - прогнозируемая будущая средняя зарплата этих вакансий: \"+str(s)[:-2])"
   ]
  },
  {
   "cell_type": "markdown",
   "id": "ea49feed",
   "metadata": {},
   "source": [
    "# Прогнозирование вакансий по ставкам, зарплатам, опытом работы, id_городов с множественной регрессии"
   ]
  },
  {
   "cell_type": "code",
   "execution_count": 29,
   "id": "41527384",
   "metadata": {},
   "outputs": [],
   "source": [
    "X = data[['ставка', 'Зарплата_от', 'Зарплата_до','нужный опыт', 'id_городов']]\n",
    "y = data['id_позиций']"
   ]
  },
  {
   "cell_type": "code",
   "execution_count": 30,
   "id": "6ae6dab1",
   "metadata": {},
   "outputs": [
    {
     "data": {
      "text/plain": [
       "LinearRegression()"
      ]
     },
     "execution_count": 30,
     "metadata": {},
     "output_type": "execute_result"
    }
   ],
   "source": [
    "regr = linear_model.LinearRegression()\n",
    "regr.fit(X, y)"
   ]
  },
  {
   "cell_type": "code",
   "execution_count": 31,
   "id": "bf869428",
   "metadata": {},
   "outputs": [
    {
     "name": "stdout",
     "output_type": "stream",
     "text": [
      "Введите ставку(полная-8, частичная-7): 7\n",
      "Введите Зарплата_от: 400000\n",
      "Введите Зарплата_до: 700000\n",
      "Введите рабочий опыт: 3\n",
      "Введите город: Нур-Султан\n",
      "от 400000 KZT до 700000 KZT - прогнозируемая зарплата этих вакансий: Инженер-проектировщик по электрике, Ведущий инженер по Geomatics, Инженер 1 С ТОИР\n"
     ]
    }
   ],
   "source": [
    "s=''\n",
    "a=int(input(\"Введите ставку(полная-8, частичная-7): \"))\n",
    "b=int(input(\"Введите Зарплата_от: \"))\n",
    "c=int(input('Введите Зарплата_до: '))\n",
    "d=int(input(\"Введите рабочий опыт: \"))\n",
    "e1=input(\"Введите город: \")\n",
    "for i in range(len(data)):\n",
    "    if data['Город'][i]==e1:\n",
    "        e=data['id_городов'][i]\n",
    "        break\n",
    "predicted_rbt = regr.predict([[a, b, c, d, e]])\n",
    "if int(predicted_rbt[0])==1:\n",
    "    for i in range(len(data)):\n",
    "        if int(data['id_позиций'][i])==int(predicted_rbt[0]) or int(data['id_позиций'][i])==int(predicted_rbt[0])-1 or int(data['id_позиций'][i])==int(predicted_rbt[0])+1:\n",
    "            if str(data['позиция'][i]) not in s:\n",
    "                s+=str(data['позиция'][i])+\", \"\n",
    "    print(\"от \"+str(b)+'KZT до '+str(c)+\"KZT - прогнозируемая зарплата этих вакансий: \"+str(s)[:-2])#+'\\nid='+str(int(predicted_rbt[0])-1)+', '+str(int(predicted_rbt[0]))+', '+str(int(predicted_rbt[0])+1))\n",
    "else:\n",
    "    for i in range(len(data)):\n",
    "        if int(data['id_позиций'][i])==int(predicted_rbt[0]) or int(data['id_позиций'][i])==int(predicted_rbt[0])-1 or int(data['id_позиций'][i])==int(predicted_rbt[0])+1:\n",
    "            if str(data['позиция'][i]) not in s:\n",
    "                s+=str(data['позиция'][i])+\", \"\n",
    "    print(\"от \"+str(b)+' KZT до '+str(c)+\" KZT - прогнозируемая зарплата этих вакансий: \"+str(s)[:-2])#+'\\nid='+str(int(predicted_rbt[0])-1)+', '+str(int(predicted_rbt[0]))+', '+str(int(predicted_rbt[0])+1))"
   ]
  }
 ],
 "metadata": {
  "kernelspec": {
   "display_name": "Python 3",
   "language": "python",
   "name": "python3"
  },
  "language_info": {
   "codemirror_mode": {
    "name": "ipython",
    "version": 3
   },
   "file_extension": ".py",
   "mimetype": "text/x-python",
   "name": "python",
   "nbconvert_exporter": "python",
   "pygments_lexer": "ipython3",
   "version": "3.8.8"
  }
 },
 "nbformat": 4,
 "nbformat_minor": 5
}
